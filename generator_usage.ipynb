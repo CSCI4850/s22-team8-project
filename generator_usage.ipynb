{
 "cells": [
  {
   "cell_type": "code",
   "execution_count": 1,
   "id": "2b74d5ae-b361-4c74-8cc4-53690203bce9",
   "metadata": {},
   "outputs": [],
   "source": [
    "import numpy as np\n",
    "from Generator import Generator\n",
    "import random\n",
    "import csv"
   ]
  },
  {
   "cell_type": "code",
   "execution_count": 2,
   "id": "1bd83d47-a5b2-49bd-a282-0f0272781fd7",
   "metadata": {},
   "outputs": [],
   "source": [
    "generator = Generator('example.csv') # filename with data"
   ]
  },
  {
   "cell_type": "code",
   "execution_count": 3,
   "id": "7579f11b-876a-495a-b0f5-d35d6a447cc2",
   "metadata": {},
   "outputs": [],
   "source": [
    "generator.generate(1000) # generates arg number of examples\n",
    "generator.scale(0.5,2.5) # scales ingredients individually between min and max arg values\n",
    "recipes = generator.recipes # recipes\n",
    "quant = generator.quant # quantity of ingredients"
   ]
  },
  {
   "cell_type": "code",
   "execution_count": 4,
   "id": "8eca88a6-3d0e-46e4-889d-f95afe7522bf",
   "metadata": {},
   "outputs": [
    {
     "name": "stdout",
     "output_type": "stream",
     "text": [
      "[[[  0.53   1.59   1.06 ...   2.12   0.53   0.53]\n",
      "  [  9.32  13.98 125.82 ...  13.98  11.65  11.65]\n",
      "  [  6.99  18.64  13.98 ...   4.66   6.99   4.66]\n",
      "  ...\n",
      "  [  0.     0.     0.   ...   0.     0.     0.  ]\n",
      "  [  0.     0.     0.   ...   0.     0.     0.  ]\n",
      "  [  1.49  99.83   8.94 ...   4.47  11.92   4.47]]\n",
      "\n",
      " [[  0.57   1.71   1.14 ...   2.28   0.57   0.57]\n",
      "  [  6.52   9.78  88.02 ...   9.78   8.15   8.15]\n",
      "  [  1.71   4.56   3.42 ...   1.14   1.71   1.14]\n",
      "  ...\n",
      "  [  6.96   6.96   4.64 ...  13.92  11.6    9.28]\n",
      "  [  4.9    9.8    9.8  ... 215.6   14.7    4.9 ]\n",
      "  [  1.04  69.68   6.24 ...   3.12   8.32   3.12]]\n",
      "\n",
      " [[  2.08   6.24   4.16 ...   8.32   2.08   2.08]\n",
      "  [  9.04  13.56 122.04 ...  13.56  11.3   11.3 ]\n",
      "  [  6.39  17.04  12.78 ...   4.26   6.39   4.26]\n",
      "  ...\n",
      "  [  5.52   5.52   3.68 ...  11.04   9.2    7.36]\n",
      "  [  3.4    6.8    6.8  ... 149.6   10.2    3.4 ]\n",
      "  [  1.42  95.14   8.52 ...   4.26  11.36   4.26]]\n",
      "\n",
      " ...\n",
      "\n",
      " [[  0.     0.     0.   ...   0.     0.     0.  ]\n",
      "  [  0.     0.     0.   ...   0.     0.     0.  ]\n",
      "  [  4.02  10.72   8.04 ...   2.68   4.02   2.68]\n",
      "  ...\n",
      "  [  6.78   6.78   4.52 ...  13.56  11.3    9.04]\n",
      "  [  0.     0.     0.   ...   0.     0.     0.  ]\n",
      "  [  0.     0.     0.   ...   0.     0.     0.  ]]\n",
      "\n",
      " [[  0.     0.     0.   ...   0.     0.     0.  ]\n",
      "  [  0.     0.     0.   ...   0.     0.     0.  ]\n",
      "  [  6.42  17.12  12.84 ...   4.28   6.42   4.28]\n",
      "  ...\n",
      "  [  5.67   5.67   3.78 ...  11.34   9.45   7.56]\n",
      "  [  2.4    4.8    4.8  ... 105.6    7.2    2.4 ]\n",
      "  [  2.25 150.75  13.5  ...   6.75  18.     6.75]]\n",
      "\n",
      " [[  0.     0.     0.   ...   0.     0.     0.  ]\n",
      "  [  0.     0.     0.   ...   0.     0.     0.  ]\n",
      "  [  6.66  17.76  13.32 ...   4.44   6.66   4.44]\n",
      "  ...\n",
      "  [  0.     0.     0.   ...   0.     0.     0.  ]\n",
      "  [  0.     0.     0.   ...   0.     0.     0.  ]\n",
      "  [  0.     0.     0.   ...   0.     0.     0.  ]]]\n",
      "[[[0.53]\n",
      "  [2.33]\n",
      "  [2.33]\n",
      "  ...\n",
      "  [0.  ]\n",
      "  [0.  ]\n",
      "  [1.49]]\n",
      "\n",
      " [[0.57]\n",
      "  [1.63]\n",
      "  [0.57]\n",
      "  ...\n",
      "  [2.32]\n",
      "  [2.45]\n",
      "  [1.04]]\n",
      "\n",
      " [[2.08]\n",
      "  [2.26]\n",
      "  [2.13]\n",
      "  ...\n",
      "  [1.84]\n",
      "  [1.7 ]\n",
      "  [1.42]]\n",
      "\n",
      " ...\n",
      "\n",
      " [[0.  ]\n",
      "  [0.  ]\n",
      "  [1.34]\n",
      "  ...\n",
      "  [2.26]\n",
      "  [0.  ]\n",
      "  [0.  ]]\n",
      "\n",
      " [[0.  ]\n",
      "  [0.  ]\n",
      "  [2.14]\n",
      "  ...\n",
      "  [1.89]\n",
      "  [1.2 ]\n",
      "  [2.25]]\n",
      "\n",
      " [[0.  ]\n",
      "  [0.  ]\n",
      "  [2.22]\n",
      "  ...\n",
      "  [0.  ]\n",
      "  [0.  ]\n",
      "  [0.  ]]]\n"
     ]
    }
   ],
   "source": [
    "print(recipes)\n",
    "print(quant)"
   ]
  },
  {
   "cell_type": "code",
   "execution_count": null,
   "id": "1d9a67d9-8dbd-4238-a114-c1043d695213",
   "metadata": {},
   "outputs": [],
   "source": []
  }
 ],
 "metadata": {
  "kernelspec": {
   "display_name": "Python 3 (ipykernel)",
   "language": "python",
   "name": "python3"
  },
  "language_info": {
   "codemirror_mode": {
    "name": "ipython",
    "version": 3
   },
   "file_extension": ".py",
   "mimetype": "text/x-python",
   "name": "python",
   "nbconvert_exporter": "python",
   "pygments_lexer": "ipython3",
   "version": "3.9.7"
  }
 },
 "nbformat": 4,
 "nbformat_minor": 5
}
