{
 "cells": [
  {
   "cell_type": "markdown",
   "id": "a068c866-c1b4-4f69-bd99-777a6212f050",
   "metadata": {},
   "source": [
    "&emsp;&emsp;Our main goal is to build a neural network that will use data from nutritional fact labels in order to estimate the mass of ingredients that go into certain recipes. This includes both the list of the macro- and micronutrients that are listed on the nutritional fact label as well as the list of ingredients by weight. The goal would be for the network to transform this input into the quantities of various ingredients that were used to create the food. In order to achieve the best results, we will limit the types of recipes to those of a single type of food, such as breads or sauces."
   ]
  },
  {
   "cell_type": "markdown",
   "id": "dcb76858-9f9f-4952-a9a0-4b8494b341ac",
   "metadata": {},
   "source": [
    "&emsp;&emsp;We will use a network with an input layer divided into two sections. The first section of the input is a list of the constituent macro- and micronutrients and their associated quantities. For example, there will be a neuron that indicates the number of calories that would be initialized with the number of calories in the food. The other input section is the list of ingredients and their relative positions in the list, which are sorted in descending quantity by weight. These inputs would ideally be able to produce an output of the mass of every ingredient in a recipe. Our output layer will be large enough such that it can account for every possible ingredient in our dataset. "
   ]
  },
  {
   "cell_type": "markdown",
   "id": "cf589186-7998-4e28-9cf3-1983e69b222a",
   "metadata": {},
   "source": [
    "&emsp;&emsp;As of now, we are exploring possible datasets for the project. An ideal dataset would contain both a recipe for the food as well as the information found on the nutritional facts label. The datasets listed below are options that are being considered; however, they are insufficient in at least one aspect, such as missing ingredients or nutrients. If unable to find an ideal dataset for the project, we will cross-reference ingredients with their respective nutritional values and create nutritional facts based on the summation of the ingredients’ individual nutritional facts. Additionally, we can scale the recipes and their nutritional facts so that we will be able to increase the number of data points. For example, we could feed the ingredients into the network, double all of the nutritional fact information, and then feed that scaled version of the input into the network."
   ]
  },
  {
   "cell_type": "markdown",
   "id": "504c0d0c-95fd-42fc-b018-0cdaef433549",
   "metadata": {},
   "source": [
    "Potential Data Sets: <br>\n",
    "&emsp;https://dominikschmidt.xyz/simplified-recipes-1M/ <br>\n",
    "&emsp;https://www.kaggle.com/hugodarwood/epirecipes/version/2 <br>\n",
    "&emsp;https://cosylab.iiitd.edu.in/recipedb/ <br>\n",
    "&emsp;https://developer.edamam.com/edamam-recipe-api <br>\n",
    "&emsp;https://fdc.nal.usda.gov/download-datasets.html\n"
   ]
  },
  {
   "cell_type": "markdown",
   "id": "f5f4b48d-a0ac-447e-ae9e-93fadce0a934",
   "metadata": {},
   "source": [
    "&emsp;&emsp;In order to test the performance of the neural network, we will divide our data into training and testing data. The testing data will only be shown to the network after it has been sufficiently trained using the training data. Using the testing data, we will then observe our network’s accuracy at properly identifying the mass of each individual ingredient. We are aiming to be able to identify the mass of each ingredient with at least 90% accuracy."
   ]
  },
  {
   "cell_type": "markdown",
   "id": "76e813df-b60a-4fbc-a6d2-76ab7f094b45",
   "metadata": {},
   "source": [
    "&emsp;&emsp;In the event that we achieve this goal with additional time to complete the project, a potential stretch goal to work towards would be to take the ingredient masses that our network generates and create a recipe using that data.  If we are able to train the network to become reasonably proficient within the domain of a single food group, another potential stretch goal would be to expand to either another group of foods or a mixed data set consisting of multiple foods."
   ]
  },
  {
   "cell_type": "code",
   "execution_count": null,
   "id": "7ee2ce2b-81d0-460e-ba09-b8202c09f5fb",
   "metadata": {},
   "outputs": [],
   "source": []
  }
 ],
 "metadata": {
  "kernelspec": {
   "display_name": "Python 3 (ipykernel)",
   "language": "python",
   "name": "python3"
  },
  "language_info": {
   "codemirror_mode": {
    "name": "ipython",
    "version": 3
   },
   "file_extension": ".py",
   "mimetype": "text/x-python",
   "name": "python",
   "nbconvert_exporter": "python",
   "pygments_lexer": "ipython3",
   "version": "3.9.7"
  }
 },
 "nbformat": 4,
 "nbformat_minor": 5
}
