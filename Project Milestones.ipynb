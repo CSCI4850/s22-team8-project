{
 "cells": [
  {
   "cell_type": "markdown",
   "id": "c26993d2-0445-4d3e-8509-a23a6fb328a5",
   "metadata": {},
   "source": [
    "<font size=\"6\"><center><b>Project Milestones</b></center></font>"
   ]
  },
  {
   "cell_type": "markdown",
   "id": "81c6f485-c916-4a68-a36b-3346a6822267",
   "metadata": {},
   "source": [
    "<font size=\"3\"><center><b>March 14th Milestone</b></center></font>\n",
    "\n",
    "| Deliverable   | Percent Complete | Estimated Completion Date | Percent Complete by Next Milestone |\n",
    "| :-            | :-               | :-                        | :-                                 |\n",
    "| Code          | 0%               | April 19                  | 5%                                 |\n",
    "| Demo          | 0%               | April 26                  | 5%                                 |\n",
    "| Presentation  | 0%               | May 3                     | 0%                                 |\n",
    "\n",
    "<center><b>1. What deliverable goals established in the last milestone report were accomplished to the anticipated percentage?</b>\n",
    "    <br>N/A</center><br>\n",
    "<center><b>2. What deliverable goals established in the last milestone report were were not accomplished to the anticipated percentage?</b>\n",
    "    <br>N/A</center><br>\n",
    "<center><b>3. What are the main deliverable goals to meet before the next milestone report, and who is working on them?</b>\n",
    "    <br>Andy, Eric, and Nash are researching databases looking for one with all the data we need, or, for two or more that we can cross-reference to get what we need.<br>Chandler is working on the code, importing necesarry libraries and any setup needed for our data.<br>Trevor is working on the demo, typing any information we currently have, and taking care of the Milestone Reports.</center><br><br><br>"
   ]
  },
  {
   "cell_type": "markdown",
   "id": "59669303-8b76-4278-a919-2474ee5948f3",
   "metadata": {},
   "source": [
    "<font size=\"3\"><center><b>March 21st Milestone</b></center></font>\n",
    "\n",
    "| Deliverable   | Percent Complete | Estimated Completion Date | Percent Complete by Next Milestone |\n",
    "| :-            | :-               | :-                        | :-                                 |\n",
    "| Code          | 5%               | April 19                  | 10%                                |\n",
    "| Demo          | 2%               | April 26                  | 10%                                |\n",
    "| Presentation  | 0%               | May 3                     | 0%                                 |\n",
    "\n",
    "<center><b>1. What deliverable goals established in the last milestone report were accomplished to the anticipated percentage?</b>\n",
    "    <br>Rather than finding a database with the recipe information we need, we decided to make a database with random groupings of ingredients at varying scales rather than actual recipes. The code for generating these random groupings is complete.</center><br>\n",
    "<center><b>2. What deliverable goals established in the last milestone report were were not accomplished to the anticipated percentage?</b>\n",
    "    <br>Nothing of note</center><br>\n",
    "<center><b>3. What are the main deliverable goals to meet before the next milestone report, and who is working on them?</b>\n",
    "    <br>Andy, Eric, and Nash are creating the ingredients list we need for our database generation code.<br>Chandler is working on the network.<br>Trevor is working on the demo, typing any information we currently have, and taking care of the Milestone Reports.</center><br><br><br>"
   ]
  },
  {
   "cell_type": "markdown",
   "id": "7e8f7726-7aa0-48a4-b01e-5d87f6126ce5",
   "metadata": {},
   "source": [
    "<font size=\"3\"><center><b>March 28th Milestone</b></center></font>\n",
    "\n",
    "| Deliverable   | Percent Complete | Estimated Completion Date | Percent Complete by Next Milestone |\n",
    "| :-            | :-               | :-                        | :-                                 |\n",
    "| Code          | 10%              | April 19                  | 30%                                |\n",
    "| Demo          | 8%               | April 26                  | 10%                                |\n",
    "| Presentation  | 0%               | May 3                     | 0%                                 |\n",
    "\n",
    "<center><b>1. What deliverable goals established in the last milestone report were accomplished to the anticipated percentage?</b>\n",
    "    <br>The database generation code was completed. The Nutritional data table for that generator was also completed.</center><br>\n",
    "<center><b>2. What deliverable goals established in the last milestone report were were not accomplished to the anticipated percentage?</b>\n",
    "    <br>Nothing of Note</center><br>\n",
    "<center><b>3. What are the main deliverable goals to meet before the next milestone report, and who is working on them?</b>\n",
    "    <br>Andy, Eric, Nash, and Chandler are researching different networks.<br>Trevor is working on the demo, taking care of the Milestone Reports, and helping where needed.<br>We are going to choose our network and how we will code it this week.</center><br><br><br>"
   ]
  },
  {
   "cell_type": "markdown",
   "id": "347c008d-b55e-4f26-b238-6dd6beca37de",
   "metadata": {},
   "source": [
    "<font size=\"3\"><center><b>April 4th Milestone</b></center></font>\n",
    "\n",
    "| Deliverable   | Percent Complete | Estimated Completion Date | Percent Complete by Next Milestone |\n",
    "| :-            | :-               | :-                        | :-                                 |\n",
    "| Code          | 40%              | April 19                  | 60%                                |\n",
    "| Demo          | 15%              | April 26                  | 15%                                |\n",
    "| Presentation  | 0%               | May 3                     | 0%                                 |\n",
    "\n",
    "<center><b>1. What deliverable goals established in the last milestone report were accomplished to the anticipated percentage?</b>\n",
    "    <br>We decided on a deep net with skip connections. Chandler coded the model.</center><br>\n",
    "<center><b>2. What deliverable goals established in the last milestone report were were not accomplished to the anticipated percentage?</b>\n",
    "    <br>Nothing of Note</center><br>\n",
    "<center><b>3. What are the main deliverable goals to meet before the next milestone report, and who is working on them?</b>\n",
    "    <br>Andy and Eric are helping where needed. Either Nash or Chandler are going to adjust our input (with an ordinal sorter) to work better for our network.<br>Trevor is working on the demo, taking care of the Milestone Reports, and helping where needed.<br> Trevor will be testing hyper parameters for the network this week.</center><br><br><br>"
   ]
  },
  {
   "cell_type": "markdown",
   "id": "707c2c4a-d7f0-422e-929d-e2c0909b5ce2",
   "metadata": {},
   "source": [
    "<font size=\"3\"><center><b>April 11th Milestone</b></center></font>\n",
    "\n",
    "| Deliverable   | Percent Complete | Estimated Completion Date | Percent Complete by Next Milestone |\n",
    "| :-            | :-               | :-                        | :-                                 |\n",
    "| Code          | 95%              | April 18                  | 100%                               |\n",
    "| Demo          | 15%              | April 26                  | 40%                                |\n",
    "| Presentation  | 0%               | May 3                     | 0%                                 |\n",
    "\n",
    "<center><b>1. What deliverable goals established in the last milestone report were accomplished to the anticipated percentage?</b>\n",
    "    <br>The ordinal sorter was completed. Hyper parameter testing is almost finished</center><br>\n",
    "<center><b>2. What deliverable goals established in the last milestone report were were not accomplished to the anticipated percentage?</b>\n",
    "    <br>Nothing of note</center><br>\n",
    "<center><b>3. What are the main deliverable goals to meet before the next milestone report, and who is working on them?</b>\n",
    "    <br>Trevor is working on the demo and taking care of the Milestone Reports.<br>Eric is compiling a list of actual recipes for us to use as our testing data.<br>Andy, Nash, and Chandler will probably be working on the presentation and helping with the demo if needed.</center><br><br><br>"
   ]
  },
  {
   "cell_type": "markdown",
   "id": "dae7946c-addb-4970-a703-f51315b1a7b5",
   "metadata": {},
   "source": [
    "<font size=\"3\"><center><b>April 18th Milestone</b></center></font>\n",
    "\n",
    "| Deliverable   | Percent Complete | Estimated Completion Date | Percent Complete by Next Milestone |\n",
    "| :-            | :-               | :-                        | :-                                 |\n",
    "| Code          | 95%              | April 25                  | 100%                               |\n",
    "| Demo          | 20%              | April 26                  | 90%                                |\n",
    "| Presentation  | 0%               | May 3                     | 0%                                 |\n",
    "\n",
    "<center><b>1. What deliverable goals established in the last milestone report were accomplished to the anticipated percentage?</b>\n",
    "    <br>The list of actual recipes was made. Hyper parameter testing was worked on.</center><br>\n",
    "<center><b>2. What deliverable goals established in the last milestone report were were not accomplished to the anticipated percentage?</b>\n",
    "    <br>Nothing of note.</center><br>\n",
    "<center><b>3. What are the main deliverable goals to meet before the next milestone report, and who is working on them?</b>\n",
    "    <br>Trevor is working on the demo and taking care of the Milestone Reports.<br>Chandler is performing slight adjustments to the Network.</center><br><br><br>"
   ]
  },
  {
   "cell_type": "markdown",
   "id": "78a63860-0824-46f9-946a-90b73fb20ab1",
   "metadata": {},
   "source": [
    "<font size=\"3\"><center><b>April 25th Milestone</b></center></font>\n",
    "\n",
    "| Deliverable   | Percent Complete | Estimated Completion Date | Percent Complete by Next Milestone |\n",
    "| :-            | :-               | :-                        | :-                                 |\n",
    "| Code          | 95%              | May 2                     | 100%                               |\n",
    "| Demo          | 95%              | May 2                     | 100%                               |\n",
    "| Presentation  | 0%               | May 2                     | 100%                               |\n",
    "\n",
    "<center><b>1. What deliverable goals established in the last milestone report were accomplished to the anticipated percentage?</b>\n",
    "    <br>Network adjustments created a need for more paramater testing. The demo is mostly complete, it just needs the completed model and its weights put in.</center><br>\n",
    "<center><b>2. What deliverable goals established in the last milestone report were were not accomplished to the anticipated percentage?</b>\n",
    "    <br>Nothing of note</center><br>\n",
    "<center><b>3. What are the main deliverable goals to meet before the next milestone report, and who is working on them?</b>\n",
    "    <br>Chandler is training our final model. Eric is working on the Presentation.<br>The rest of us are helping where needed.</center><br><br><br>"
   ]
  }
 ],
 "metadata": {
  "kernelspec": {
   "display_name": "Python 3 (ipykernel)",
   "language": "python",
   "name": "python3"
  },
  "language_info": {
   "codemirror_mode": {
    "name": "ipython",
    "version": 3
   },
   "file_extension": ".py",
   "mimetype": "text/x-python",
   "name": "python",
   "nbconvert_exporter": "python",
   "pygments_lexer": "ipython3",
   "version": "3.9.7"
  }
 },
 "nbformat": 4,
 "nbformat_minor": 5
}
