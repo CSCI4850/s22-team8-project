{
 "cells": [
  {
   "cell_type": "markdown",
   "id": "c26993d2-0445-4d3e-8509-a23a6fb328a5",
   "metadata": {},
   "source": [
    "<font size=\"6\"><center><b>Project Milestones</b></center></font>"
   ]
  },
  {
   "cell_type": "markdown",
   "id": "81c6f485-c916-4a68-a36b-3346a6822267",
   "metadata": {},
   "source": [
    "<font size=\"3\"><center><b>March 14th Milestone</b></center></font>\n",
    "\n",
    "| Deliverable   | Percent Complete | Estimated Completion Date | Percent Complete by Next Milestone |\n",
    "| :-            | :-               | :-                        | :-                                 |\n",
    "| Code          | 0%               | May 3                     | 0%                                 |\n",
    "| Demo          | 0%               | May 3                     | 0%                                 |\n",
    "| Presentation  | 0%               | May 3                     | 0%                                 |\n",
    "\n",
    "<center>1. What deliverable goals established in the last milestone report were accomplished to the anticipated percentage?\n",
    "    <br>N/A</center><br>\n",
    "<center>2. What deliverable goals established in the last milestone report were were not accomplished to the anticipated percentage?\n",
    "    <br>N/A</center><br>\n",
    "<center>3. What are the main deliverable goals to meet before the next milestone report, and who is working on them?\n",
    "    <br>N/A</center><br>"
   ]
  },
  {
   "cell_type": "markdown",
   "id": "59669303-8b76-4278-a919-2474ee5948f3",
   "metadata": {},
   "source": [
    "<font size=\"3\"><center><b>March 21st Milestone</b></center></font>\n",
    "\n",
    "| Deliverable   | Percent Complete | Estimated Completion Date | Percent Complete by Next Milestone |\n",
    "| :-            | :-               | :-                        | :-                                 |\n",
    "| Code          | 0%               | May 3                     | 0%                                 |\n",
    "| Demo          | 0%               | May 3                     | 0%                                 |\n",
    "| Presentation  | 0%               | May 3                     | 0%                                 |\n",
    "\n",
    "<center>1. What deliverable goals established in the last milestone report were accomplished to the anticipated percentage?\n",
    "    <br>N/A</center><br>\n",
    "<center>2. What deliverable goals established in the last milestone report were were not accomplished to the anticipated percentage?\n",
    "    <br>N/A</center><br>\n",
    "<center>3. What are the main deliverable goals to meet before the next milestone report, and who is working on them?\n",
    "    <br>N/A</center><br>"
   ]
  },
  {
   "cell_type": "markdown",
   "id": "7e8f7726-7aa0-48a4-b01e-5d87f6126ce5",
   "metadata": {},
   "source": [
    "<font size=\"3\"><center><b>March 28th Milestone</b></center></font>\n",
    "\n",
    "| Deliverable   | Percent Complete | Estimated Completion Date | Percent Complete by Next Milestone |\n",
    "| :-            | :-               | :-                        | :-                                 |\n",
    "| Code          | 0%               | May 3                     | 0%                                 |\n",
    "| Demo          | 0%               | May 3                     | 0%                                 |\n",
    "| Presentation  | 0%               | May 3                     | 0%                                 |\n",
    "\n",
    "<center>1. What deliverable goals established in the last milestone report were accomplished to the anticipated percentage?\n",
    "    <br>N/A</center><br>\n",
    "<center>2. What deliverable goals established in the last milestone report were were not accomplished to the anticipated percentage?\n",
    "    <br>N/A</center><br>\n",
    "<center>3. What are the main deliverable goals to meet before the next milestone report, and who is working on them?\n",
    "    <br>N/A</center><br>"
   ]
  },
  {
   "cell_type": "markdown",
   "id": "347c008d-b55e-4f26-b238-6dd6beca37de",
   "metadata": {},
   "source": [
    "<font size=\"3\"><center><b>April 4th Milestone</b></center></font>\n",
    "\n",
    "| Deliverable   | Percent Complete | Estimated Completion Date | Percent Complete by Next Milestone |\n",
    "| :-            | :-               | :-                        | :-                                 |\n",
    "| Code          | 0%               | May 3                     | 0%                                 |\n",
    "| Demo          | 0%               | May 3                     | 0%                                 |\n",
    "| Presentation  | 0%               | May 3                     | 0%                                 |\n",
    "\n",
    "<center>1. What deliverable goals established in the last milestone report were accomplished to the anticipated percentage?\n",
    "    <br>N/A</center><br>\n",
    "<center>2. What deliverable goals established in the last milestone report were were not accomplished to the anticipated percentage?\n",
    "    <br>N/A</center><br>\n",
    "<center>3. What are the main deliverable goals to meet before the next milestone report, and who is working on them?\n",
    "    <br>N/A</center><br>"
   ]
  },
  {
   "cell_type": "markdown",
   "id": "707c2c4a-d7f0-422e-929d-e2c0909b5ce2",
   "metadata": {},
   "source": [
    "<font size=\"3\"><center><b>April 11th Milestone</b></center></font>\n",
    "\n",
    "| Deliverable   | Percent Complete | Estimated Completion Date | Percent Complete by Next Milestone |\n",
    "| :-            | :-               | :-                        | :-                                 |\n",
    "| Code          | 0%               | May 3                     | 0%                                 |\n",
    "| Demo          | 0%               | May 3                     | 0%                                 |\n",
    "| Presentation  | 0%               | May 3                     | 0%                                 |\n",
    "\n",
    "<center>1. What deliverable goals established in the last milestone report were accomplished to the anticipated percentage?\n",
    "    <br>N/A</center><br>\n",
    "<center>2. What deliverable goals established in the last milestone report were were not accomplished to the anticipated percentage?\n",
    "    <br>N/A</center><br>\n",
    "<center>3. What are the main deliverable goals to meet before the next milestone report, and who is working on them?\n",
    "    <br>N/A</center><br>"
   ]
  },
  {
   "cell_type": "markdown",
   "id": "dae7946c-addb-4970-a703-f51315b1a7b5",
   "metadata": {},
   "source": [
    "<font size=\"3\"><center><b>April 18th Milestone</b></center></font>\n",
    "\n",
    "| Deliverable   | Percent Complete | Estimated Completion Date | Percent Complete by Next Milestone |\n",
    "| :-            | :-               | :-                        | :-                                 |\n",
    "| Code          | 0%               | May 3                     | 0%                                 |\n",
    "| Demo          | 0%               | May 3                     | 0%                                 |\n",
    "| Presentation  | 0%               | May 3                     | 0%                                 |\n",
    "\n",
    "<center>1. What deliverable goals established in the last milestone report were accomplished to the anticipated percentage?\n",
    "    <br>N/A</center><br>\n",
    "<center>2. What deliverable goals established in the last milestone report were were not accomplished to the anticipated percentage?\n",
    "    <br>N/A</center><br>\n",
    "<center>3. What are the main deliverable goals to meet before the next milestone report, and who is working on them?\n",
    "    <br>N/A</center><br>"
   ]
  },
  {
   "cell_type": "markdown",
   "id": "78a63860-0824-46f9-946a-90b73fb20ab1",
   "metadata": {},
   "source": [
    "<font size=\"3\"><center><b>April 25th Milestone</b></center></font>\n",
    "\n",
    "| Deliverable   | Percent Complete | Estimated Completion Date | Percent Complete by Next Milestone |\n",
    "| :-            | :-               | :-                        | :-                                 |\n",
    "| Code          | 0%               | May 3                     | 0%                                 |\n",
    "| Demo          | 0%               | May 3                     | 0%                                 |\n",
    "| Presentation  | 0%               | May 3                     | 0%                                 |\n",
    "\n",
    "<center>1. What deliverable goals established in the last milestone report were accomplished to the anticipated percentage?\n",
    "    <br>N/A</center><br>\n",
    "<center>2. What deliverable goals established in the last milestone report were were not accomplished to the anticipated percentage?\n",
    "    <br>N/A</center><br>\n",
    "<center>3. What are the main deliverable goals to meet before the next milestone report, and who is working on them?\n",
    "    <br>N/A</center><br>"
   ]
  }
 ],
 "metadata": {
  "kernelspec": {
   "display_name": "Python 3 (ipykernel)",
   "language": "python",
   "name": "python3"
  },
  "language_info": {
   "codemirror_mode": {
    "name": "ipython",
    "version": 3
   },
   "file_extension": ".py",
   "mimetype": "text/x-python",
   "name": "python",
   "nbconvert_exporter": "python",
   "pygments_lexer": "ipython3",
   "version": "3.9.7"
  }
 },
 "nbformat": 4,
 "nbformat_minor": 5
}
