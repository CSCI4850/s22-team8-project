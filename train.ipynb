{
 "cells": [
  {
   "cell_type": "code",
   "execution_count": 1,
   "id": "00004372-c1cc-47d2-a169-46f5d0f09b52",
   "metadata": {},
   "outputs": [],
   "source": [
    "import tensorflow as tf\n",
    "import tensorflow.keras as keras\n",
    "import numpy as np\n",
    "\n",
    "from Generator import Generator"
   ]
  },
  {
   "cell_type": "markdown",
   "id": "0ac47287-209f-4008-8454-e56dd05ae727",
   "metadata": {},
   "source": [
    "## Parameters"
   ]
  },
  {
   "cell_type": "markdown",
   "id": "20c0e4d0-4efc-4644-8660-187b6b2bbd89",
   "metadata": {},
   "source": [
    "#### Data Generation"
   ]
  },
  {
   "cell_type": "code",
   "execution_count": 2,
   "id": "30121acf-492e-499d-9290-75f567ff39b6",
   "metadata": {},
   "outputs": [],
   "source": [
    "low = 0.1                                    #\n",
    "high = 5                                     #\n",
    "rank = True                                  #\n",
    "normalize = False\n",
    "\n",
    "train_examples = 10000\n",
    "test_examples = 100"
   ]
  },
  {
   "cell_type": "markdown",
   "id": "f336abc6-2b96-4e0b-858f-f32a51d32933",
   "metadata": {},
   "source": [
    "#### Model"
   ]
  },
  {
   "cell_type": "code",
   "execution_count": 3,
   "id": "105f9c8b-e112-4cdc-a24a-12535671b7ce",
   "metadata": {},
   "outputs": [
    {
     "name": "stderr",
     "output_type": "stream",
     "text": [
      "2022-04-15 00:28:42.924067: I tensorflow/stream_executor/cuda/cuda_gpu_executor.cc:925] could not open file to read NUMA node: /sys/bus/pci/devices/0000:01:00.0/numa_node\n",
      "Your kernel may have been built without NUMA support.\n",
      "2022-04-15 00:28:42.981642: I tensorflow/stream_executor/cuda/cuda_gpu_executor.cc:925] could not open file to read NUMA node: /sys/bus/pci/devices/0000:01:00.0/numa_node\n",
      "Your kernel may have been built without NUMA support.\n",
      "2022-04-15 00:28:42.982319: I tensorflow/stream_executor/cuda/cuda_gpu_executor.cc:925] could not open file to read NUMA node: /sys/bus/pci/devices/0000:01:00.0/numa_node\n",
      "Your kernel may have been built without NUMA support.\n",
      "2022-04-15 00:28:42.983415: I tensorflow/core/platform/cpu_feature_guard.cc:151] This TensorFlow binary is optimized with oneAPI Deep Neural Network Library (oneDNN) to use the following CPU instructions in performance-critical operations:  AVX2 FMA\n",
      "To enable them in other operations, rebuild TensorFlow with the appropriate compiler flags.\n",
      "2022-04-15 00:28:42.987650: I tensorflow/stream_executor/cuda/cuda_gpu_executor.cc:925] could not open file to read NUMA node: /sys/bus/pci/devices/0000:01:00.0/numa_node\n",
      "Your kernel may have been built without NUMA support.\n",
      "2022-04-15 00:28:42.988166: I tensorflow/stream_executor/cuda/cuda_gpu_executor.cc:925] could not open file to read NUMA node: /sys/bus/pci/devices/0000:01:00.0/numa_node\n",
      "Your kernel may have been built without NUMA support.\n",
      "2022-04-15 00:28:42.988535: I tensorflow/stream_executor/cuda/cuda_gpu_executor.cc:925] could not open file to read NUMA node: /sys/bus/pci/devices/0000:01:00.0/numa_node\n",
      "Your kernel may have been built without NUMA support.\n",
      "2022-04-15 00:28:43.946842: I tensorflow/stream_executor/cuda/cuda_gpu_executor.cc:925] could not open file to read NUMA node: /sys/bus/pci/devices/0000:01:00.0/numa_node\n",
      "Your kernel may have been built without NUMA support.\n",
      "2022-04-15 00:28:43.947572: I tensorflow/stream_executor/cuda/cuda_gpu_executor.cc:925] could not open file to read NUMA node: /sys/bus/pci/devices/0000:01:00.0/numa_node\n",
      "Your kernel may have been built without NUMA support.\n",
      "2022-04-15 00:28:43.947600: I tensorflow/core/common_runtime/gpu/gpu_device.cc:1609] Could not identify NUMA node of platform GPU id 0, defaulting to 0.  Your kernel may not have been built with NUMA support.\n",
      "2022-04-15 00:28:43.948360: I tensorflow/stream_executor/cuda/cuda_gpu_executor.cc:925] could not open file to read NUMA node: /sys/bus/pci/devices/0000:01:00.0/numa_node\n",
      "Your kernel may have been built without NUMA support.\n",
      "2022-04-15 00:28:43.948595: I tensorflow/core/common_runtime/gpu/gpu_device.cc:1525] Created device /job:localhost/replica:0/task:0/device:GPU:0 with 1615 MB memory:  -> device: 0, name: NVIDIA GeForce RTX 3050 Ti Laptop GPU, pci bus id: 0000:01:00.0, compute capability: 8.6\n"
     ]
    }
   ],
   "source": [
    "embed_dim = 512                              #\n",
    "stack = 8                                    #\n",
    "\n",
    "optimizer = keras.optimizers.Nadam()         #\n",
    "loss = keras.losses.MSE                      # Regression Loss Function\n",
    "\n",
    "\n",
    "metrics = keras.metrics.MeanSquaredError()"
   ]
  },
  {
   "cell_type": "markdown",
   "id": "f5a5bf93-f5c9-4772-9ee8-d1675dca741f",
   "metadata": {},
   "source": [
    "#### Training"
   ]
  },
  {
   "cell_type": "code",
   "execution_count": 4,
   "id": "74636d58-d1d8-412c-b393-d0c2d27c103f",
   "metadata": {},
   "outputs": [],
   "source": [
    "batch_size = 128\n",
    "epochs = 100\n",
    "\n",
    "validation_split = 0.2\n",
    "verbose = 2"
   ]
  },
  {
   "cell_type": "markdown",
   "id": "9452ebb1-97e9-4f34-a429-3ab296001e1b",
   "metadata": {},
   "source": [
    "## Generate Data"
   ]
  },
  {
   "cell_type": "code",
   "execution_count": 5,
   "id": "23032494-9688-4711-9ebe-1d05222b3e58",
   "metadata": {},
   "outputs": [],
   "source": [
    "generator = Generator('nutrients.csv') # filename with data"
   ]
  },
  {
   "cell_type": "code",
   "execution_count": 6,
   "id": "8c8e6f0e-363c-4c6a-a90b-857b0d00e820",
   "metadata": {},
   "outputs": [],
   "source": [
    "generator.generate(train_examples) # generates arg number of examples\n",
    "generator.scale(low,high) # scales ingredients individually between min and max arg values\n",
    "if rank:\n",
    "    generator.rank()\n",
    "    \n",
    "if normalize:\n",
    "    generator.normalize()"
   ]
  },
  {
   "cell_type": "markdown",
   "id": "6a35f454-3e29-4a71-9cb7-298f97058578",
   "metadata": {},
   "source": [
    "## Build Model"
   ]
  },
  {
   "cell_type": "code",
   "execution_count": 7,
   "id": "88feb92b-5433-4b83-a6f3-d8dbc1b1a5a9",
   "metadata": {},
   "outputs": [],
   "source": [
    "embed_dim = embed_dim\n",
    "stack = stack\n",
    "i1 = keras.layers.Input(generator.recipes.shape[1:])\n",
    "f1 = keras.layers.Flatten()(i1)\n",
    "y1 = keras.layers.Dense(embed_dim)(f1)\n",
    "\n",
    "# Stack residual blocks (skip connections)\n",
    "for _ in range(stack):\n",
    "    y2 = y1\n",
    "    y1 = keras.layers.Dense(embed_dim,\n",
    "        activation=keras.activations.relu)(y1)\n",
    "    y1 = keras.layers.Add()([y1,y2])\n",
    "    y1 = keras.layers.LayerNormalization()(y1)\n",
    "\n",
    "if normalize:\n",
    "    o1 = keras.layers.Dense(generator.recipes.shape[1],activation=keras.activations.softplus)(y1)\n",
    "    \n",
    "else:\n",
    "    o1 = keras.layers.Dense(generator.recipes.shape[1])(y1)\n",
    "    \n",
    "model = keras.Model(i1,o1)"
   ]
  },
  {
   "cell_type": "code",
   "execution_count": 8,
   "id": "270046ea-1e0b-48ac-bd20-8f65d92f4284",
   "metadata": {},
   "outputs": [],
   "source": [
    "#keras.utils.plot_model(model,to_file='recipe_model.png',show_shapes=True,expand_nested=True)"
   ]
  },
  {
   "cell_type": "code",
   "execution_count": 9,
   "id": "756ff5a2-df36-48cb-b77b-1f9b58ec4351",
   "metadata": {},
   "outputs": [
    {
     "name": "stdout",
     "output_type": "stream",
     "text": [
      "Model: \"model\"\n",
      "__________________________________________________________________________________________________\n",
      " Layer (type)                   Output Shape         Param #     Connected to                     \n",
      "==================================================================================================\n",
      " input_1 (InputLayer)           [(None, 15, 14)]     0           []                               \n",
      "                                                                                                  \n",
      " flatten (Flatten)              (None, 210)          0           ['input_1[0][0]']                \n",
      "                                                                                                  \n",
      " dense (Dense)                  (None, 512)          108032      ['flatten[0][0]']                \n",
      "                                                                                                  \n",
      " dense_1 (Dense)                (None, 512)          262656      ['dense[0][0]']                  \n",
      "                                                                                                  \n",
      " add (Add)                      (None, 512)          0           ['dense_1[0][0]',                \n",
      "                                                                  'dense[0][0]']                  \n",
      "                                                                                                  \n",
      " layer_normalization (LayerNorm  (None, 512)         1024        ['add[0][0]']                    \n",
      " alization)                                                                                       \n",
      "                                                                                                  \n",
      " dense_2 (Dense)                (None, 512)          262656      ['layer_normalization[0][0]']    \n",
      "                                                                                                  \n",
      " add_1 (Add)                    (None, 512)          0           ['dense_2[0][0]',                \n",
      "                                                                  'layer_normalization[0][0]']    \n",
      "                                                                                                  \n",
      " layer_normalization_1 (LayerNo  (None, 512)         1024        ['add_1[0][0]']                  \n",
      " rmalization)                                                                                     \n",
      "                                                                                                  \n",
      " dense_3 (Dense)                (None, 512)          262656      ['layer_normalization_1[0][0]']  \n",
      "                                                                                                  \n",
      " add_2 (Add)                    (None, 512)          0           ['dense_3[0][0]',                \n",
      "                                                                  'layer_normalization_1[0][0]']  \n",
      "                                                                                                  \n",
      " layer_normalization_2 (LayerNo  (None, 512)         1024        ['add_2[0][0]']                  \n",
      " rmalization)                                                                                     \n",
      "                                                                                                  \n",
      " dense_4 (Dense)                (None, 512)          262656      ['layer_normalization_2[0][0]']  \n",
      "                                                                                                  \n",
      " add_3 (Add)                    (None, 512)          0           ['dense_4[0][0]',                \n",
      "                                                                  'layer_normalization_2[0][0]']  \n",
      "                                                                                                  \n",
      " layer_normalization_3 (LayerNo  (None, 512)         1024        ['add_3[0][0]']                  \n",
      " rmalization)                                                                                     \n",
      "                                                                                                  \n",
      " dense_5 (Dense)                (None, 512)          262656      ['layer_normalization_3[0][0]']  \n",
      "                                                                                                  \n",
      " add_4 (Add)                    (None, 512)          0           ['dense_5[0][0]',                \n",
      "                                                                  'layer_normalization_3[0][0]']  \n",
      "                                                                                                  \n",
      " layer_normalization_4 (LayerNo  (None, 512)         1024        ['add_4[0][0]']                  \n",
      " rmalization)                                                                                     \n",
      "                                                                                                  \n",
      " dense_6 (Dense)                (None, 512)          262656      ['layer_normalization_4[0][0]']  \n",
      "                                                                                                  \n",
      " add_5 (Add)                    (None, 512)          0           ['dense_6[0][0]',                \n",
      "                                                                  'layer_normalization_4[0][0]']  \n",
      "                                                                                                  \n",
      " layer_normalization_5 (LayerNo  (None, 512)         1024        ['add_5[0][0]']                  \n",
      " rmalization)                                                                                     \n",
      "                                                                                                  \n",
      " dense_7 (Dense)                (None, 512)          262656      ['layer_normalization_5[0][0]']  \n",
      "                                                                                                  \n",
      " add_6 (Add)                    (None, 512)          0           ['dense_7[0][0]',                \n",
      "                                                                  'layer_normalization_5[0][0]']  \n",
      "                                                                                                  \n",
      " layer_normalization_6 (LayerNo  (None, 512)         1024        ['add_6[0][0]']                  \n",
      " rmalization)                                                                                     \n",
      "                                                                                                  \n",
      " dense_8 (Dense)                (None, 512)          262656      ['layer_normalization_6[0][0]']  \n",
      "                                                                                                  \n",
      " add_7 (Add)                    (None, 512)          0           ['dense_8[0][0]',                \n",
      "                                                                  'layer_normalization_6[0][0]']  \n",
      "                                                                                                  \n",
      " layer_normalization_7 (LayerNo  (None, 512)         1024        ['add_7[0][0]']                  \n",
      " rmalization)                                                                                     \n",
      "                                                                                                  \n",
      " dense_9 (Dense)                (None, 15)           7695        ['layer_normalization_7[0][0]']  \n",
      "                                                                                                  \n",
      "==================================================================================================\n",
      "Total params: 2,225,167\n",
      "Trainable params: 2,225,167\n",
      "Non-trainable params: 0\n",
      "__________________________________________________________________________________________________\n"
     ]
    }
   ],
   "source": [
    "model.summary()"
   ]
  },
  {
   "cell_type": "code",
   "execution_count": 10,
   "id": "720ec192-b5a7-411e-8c6c-743b5ae34542",
   "metadata": {},
   "outputs": [],
   "source": [
    "model.compile(optimizer=optimizer,\n",
    "            loss=loss,\n",
    "            metrics=metrics)"
   ]
  },
  {
   "cell_type": "markdown",
   "id": "7873746a-cf7f-424c-beb7-c3989f8e3c38",
   "metadata": {},
   "source": [
    "## Train"
   ]
  },
  {
   "cell_type": "code",
   "execution_count": 11,
   "id": "baff6a30-b815-4812-8e8e-8c1e0b48e2e6",
   "metadata": {},
   "outputs": [
    {
     "name": "stdout",
     "output_type": "stream",
     "text": [
      "Epoch 1/100\n"
     ]
    },
    {
     "name": "stderr",
     "output_type": "stream",
     "text": [
      "2022-04-15 00:28:49.131864: I tensorflow/stream_executor/cuda/cuda_blas.cc:1774] TensorFloat-32 will be used for the matrix multiplication. This will only be logged once.\n",
      "2022-04-15 00:28:49.555486: I tensorflow/stream_executor/cuda/cuda_dnn.cc:366] Loaded cuDNN version 8301\n"
     ]
    },
    {
     "name": "stdout",
     "output_type": "stream",
     "text": [
      "63/63 - 5s - loss: 1.1358 - mean_squared_error: 1.1358 - val_loss: 0.6017 - val_mean_squared_error: 0.6017 - 5s/epoch - 87ms/step\n",
      "Epoch 2/100\n",
      "63/63 - 1s - loss: 0.5349 - mean_squared_error: 0.5349 - val_loss: 0.7974 - val_mean_squared_error: 0.7974 - 773ms/epoch - 12ms/step\n",
      "Epoch 3/100\n",
      "63/63 - 1s - loss: 0.4186 - mean_squared_error: 0.4186 - val_loss: 0.3889 - val_mean_squared_error: 0.3889 - 759ms/epoch - 12ms/step\n",
      "Epoch 4/100\n",
      "63/63 - 1s - loss: 0.3230 - mean_squared_error: 0.3230 - val_loss: 0.3371 - val_mean_squared_error: 0.3371 - 780ms/epoch - 12ms/step\n",
      "Epoch 5/100\n",
      "63/63 - 1s - loss: 0.2709 - mean_squared_error: 0.2709 - val_loss: 0.3341 - val_mean_squared_error: 0.3341 - 776ms/epoch - 12ms/step\n",
      "Epoch 6/100\n",
      "63/63 - 1s - loss: 0.2493 - mean_squared_error: 0.2493 - val_loss: 0.2983 - val_mean_squared_error: 0.2983 - 817ms/epoch - 13ms/step\n",
      "Epoch 7/100\n",
      "63/63 - 1s - loss: 0.2395 - mean_squared_error: 0.2395 - val_loss: 0.2996 - val_mean_squared_error: 0.2996 - 820ms/epoch - 13ms/step\n",
      "Epoch 8/100\n",
      "63/63 - 1s - loss: 0.2114 - mean_squared_error: 0.2114 - val_loss: 0.3601 - val_mean_squared_error: 0.3601 - 757ms/epoch - 12ms/step\n",
      "Epoch 9/100\n",
      "63/63 - 1s - loss: 0.2089 - mean_squared_error: 0.2089 - val_loss: 0.2692 - val_mean_squared_error: 0.2692 - 776ms/epoch - 12ms/step\n",
      "Epoch 10/100\n",
      "63/63 - 1s - loss: 0.2027 - mean_squared_error: 0.2027 - val_loss: 0.2922 - val_mean_squared_error: 0.2922 - 809ms/epoch - 13ms/step\n",
      "Epoch 11/100\n",
      "63/63 - 1s - loss: 0.1846 - mean_squared_error: 0.1846 - val_loss: 0.2706 - val_mean_squared_error: 0.2706 - 918ms/epoch - 15ms/step\n",
      "Epoch 12/100\n",
      "63/63 - 1s - loss: 0.1751 - mean_squared_error: 0.1751 - val_loss: 0.3186 - val_mean_squared_error: 0.3186 - 830ms/epoch - 13ms/step\n",
      "Epoch 13/100\n",
      "63/63 - 1s - loss: 0.1629 - mean_squared_error: 0.1629 - val_loss: 0.2911 - val_mean_squared_error: 0.2911 - 911ms/epoch - 14ms/step\n",
      "Epoch 14/100\n",
      "63/63 - 1s - loss: 0.1650 - mean_squared_error: 0.1650 - val_loss: 0.2684 - val_mean_squared_error: 0.2684 - 759ms/epoch - 12ms/step\n",
      "Epoch 15/100\n",
      "63/63 - 1s - loss: 0.1504 - mean_squared_error: 0.1504 - val_loss: 0.2605 - val_mean_squared_error: 0.2605 - 788ms/epoch - 13ms/step\n",
      "Epoch 16/100\n",
      "63/63 - 1s - loss: 0.1353 - mean_squared_error: 0.1353 - val_loss: 0.3579 - val_mean_squared_error: 0.3579 - 747ms/epoch - 12ms/step\n",
      "Epoch 17/100\n",
      "63/63 - 1s - loss: 0.1380 - mean_squared_error: 0.1380 - val_loss: 0.3062 - val_mean_squared_error: 0.3062 - 790ms/epoch - 13ms/step\n",
      "Epoch 18/100\n",
      "63/63 - 1s - loss: 0.1254 - mean_squared_error: 0.1254 - val_loss: 0.2664 - val_mean_squared_error: 0.2664 - 781ms/epoch - 12ms/step\n",
      "Epoch 19/100\n",
      "63/63 - 1s - loss: 0.1234 - mean_squared_error: 0.1234 - val_loss: 0.2380 - val_mean_squared_error: 0.2380 - 766ms/epoch - 12ms/step\n",
      "Epoch 20/100\n",
      "63/63 - 1s - loss: 0.1146 - mean_squared_error: 0.1146 - val_loss: 0.2313 - val_mean_squared_error: 0.2313 - 757ms/epoch - 12ms/step\n",
      "Epoch 21/100\n",
      "63/63 - 1s - loss: 0.1027 - mean_squared_error: 0.1027 - val_loss: 0.2646 - val_mean_squared_error: 0.2646 - 776ms/epoch - 12ms/step\n",
      "Epoch 22/100\n",
      "63/63 - 1s - loss: 0.0957 - mean_squared_error: 0.0957 - val_loss: 0.2338 - val_mean_squared_error: 0.2338 - 806ms/epoch - 13ms/step\n",
      "Epoch 23/100\n",
      "63/63 - 1s - loss: 0.0870 - mean_squared_error: 0.0870 - val_loss: 0.2668 - val_mean_squared_error: 0.2668 - 813ms/epoch - 13ms/step\n",
      "Epoch 24/100\n",
      "63/63 - 1s - loss: 0.0957 - mean_squared_error: 0.0957 - val_loss: 0.2617 - val_mean_squared_error: 0.2617 - 824ms/epoch - 13ms/step\n",
      "Epoch 25/100\n",
      "63/63 - 1s - loss: 0.0829 - mean_squared_error: 0.0829 - val_loss: 0.2266 - val_mean_squared_error: 0.2266 - 811ms/epoch - 13ms/step\n",
      "Epoch 26/100\n",
      "63/63 - 1s - loss: 0.0746 - mean_squared_error: 0.0746 - val_loss: 0.2015 - val_mean_squared_error: 0.2015 - 793ms/epoch - 13ms/step\n",
      "Epoch 27/100\n",
      "63/63 - 1s - loss: 0.0635 - mean_squared_error: 0.0635 - val_loss: 0.2265 - val_mean_squared_error: 0.2265 - 778ms/epoch - 12ms/step\n",
      "Epoch 28/100\n",
      "63/63 - 1s - loss: 0.0618 - mean_squared_error: 0.0618 - val_loss: 0.2407 - val_mean_squared_error: 0.2407 - 881ms/epoch - 14ms/step\n",
      "Epoch 29/100\n",
      "63/63 - 1s - loss: 0.0587 - mean_squared_error: 0.0587 - val_loss: 0.2114 - val_mean_squared_error: 0.2114 - 789ms/epoch - 13ms/step\n",
      "Epoch 30/100\n",
      "63/63 - 1s - loss: 0.0530 - mean_squared_error: 0.0530 - val_loss: 0.2028 - val_mean_squared_error: 0.2028 - 796ms/epoch - 13ms/step\n",
      "Epoch 31/100\n",
      "63/63 - 1s - loss: 0.0479 - mean_squared_error: 0.0479 - val_loss: 0.2175 - val_mean_squared_error: 0.2175 - 804ms/epoch - 13ms/step\n",
      "Epoch 32/100\n",
      "63/63 - 1s - loss: 0.0513 - mean_squared_error: 0.0513 - val_loss: 0.2807 - val_mean_squared_error: 0.2807 - 810ms/epoch - 13ms/step\n",
      "Epoch 33/100\n",
      "63/63 - 1s - loss: 0.0483 - mean_squared_error: 0.0483 - val_loss: 0.1785 - val_mean_squared_error: 0.1785 - 793ms/epoch - 13ms/step\n",
      "Epoch 34/100\n",
      "63/63 - 1s - loss: 0.0432 - mean_squared_error: 0.0432 - val_loss: 0.1858 - val_mean_squared_error: 0.1858 - 755ms/epoch - 12ms/step\n",
      "Epoch 35/100\n",
      "63/63 - 1s - loss: 0.0343 - mean_squared_error: 0.0343 - val_loss: 0.1749 - val_mean_squared_error: 0.1749 - 787ms/epoch - 12ms/step\n",
      "Epoch 36/100\n",
      "63/63 - 1s - loss: 0.0352 - mean_squared_error: 0.0352 - val_loss: 0.1913 - val_mean_squared_error: 0.1913 - 827ms/epoch - 13ms/step\n",
      "Epoch 37/100\n",
      "63/63 - 1s - loss: 0.0353 - mean_squared_error: 0.0353 - val_loss: 0.1894 - val_mean_squared_error: 0.1894 - 748ms/epoch - 12ms/step\n",
      "Epoch 38/100\n",
      "63/63 - 1s - loss: 0.0369 - mean_squared_error: 0.0369 - val_loss: 0.1986 - val_mean_squared_error: 0.1986 - 770ms/epoch - 12ms/step\n",
      "Epoch 39/100\n",
      "63/63 - 1s - loss: 0.0338 - mean_squared_error: 0.0338 - val_loss: 0.1809 - val_mean_squared_error: 0.1809 - 755ms/epoch - 12ms/step\n",
      "Epoch 40/100\n",
      "63/63 - 1s - loss: 0.0266 - mean_squared_error: 0.0266 - val_loss: 0.1794 - val_mean_squared_error: 0.1794 - 800ms/epoch - 13ms/step\n",
      "Epoch 41/100\n",
      "63/63 - 1s - loss: 0.0311 - mean_squared_error: 0.0311 - val_loss: 0.1866 - val_mean_squared_error: 0.1866 - 804ms/epoch - 13ms/step\n",
      "Epoch 42/100\n",
      "63/63 - 1s - loss: 0.0299 - mean_squared_error: 0.0299 - val_loss: 0.1719 - val_mean_squared_error: 0.1719 - 787ms/epoch - 12ms/step\n",
      "Epoch 43/100\n",
      "63/63 - 1s - loss: 0.0288 - mean_squared_error: 0.0288 - val_loss: 0.1690 - val_mean_squared_error: 0.1690 - 840ms/epoch - 13ms/step\n",
      "Epoch 44/100\n",
      "63/63 - 1s - loss: 0.0292 - mean_squared_error: 0.0292 - val_loss: 0.1797 - val_mean_squared_error: 0.1797 - 817ms/epoch - 13ms/step\n",
      "Epoch 45/100\n",
      "63/63 - 1s - loss: 0.0215 - mean_squared_error: 0.0215 - val_loss: 0.1780 - val_mean_squared_error: 0.1780 - 821ms/epoch - 13ms/step\n",
      "Epoch 46/100\n",
      "63/63 - 1s - loss: 0.0263 - mean_squared_error: 0.0263 - val_loss: 0.1606 - val_mean_squared_error: 0.1606 - 843ms/epoch - 13ms/step\n",
      "Epoch 47/100\n",
      "63/63 - 1s - loss: 0.0225 - mean_squared_error: 0.0225 - val_loss: 0.1707 - val_mean_squared_error: 0.1707 - 868ms/epoch - 14ms/step\n",
      "Epoch 48/100\n",
      "63/63 - 1s - loss: 0.0216 - mean_squared_error: 0.0216 - val_loss: 0.1914 - val_mean_squared_error: 0.1914 - 826ms/epoch - 13ms/step\n",
      "Epoch 49/100\n",
      "63/63 - 1s - loss: 0.0272 - mean_squared_error: 0.0272 - val_loss: 0.1837 - val_mean_squared_error: 0.1837 - 817ms/epoch - 13ms/step\n",
      "Epoch 50/100\n",
      "63/63 - 1s - loss: 0.0386 - mean_squared_error: 0.0386 - val_loss: 0.1813 - val_mean_squared_error: 0.1813 - 890ms/epoch - 14ms/step\n",
      "Epoch 51/100\n",
      "63/63 - 1s - loss: 0.0257 - mean_squared_error: 0.0257 - val_loss: 0.1623 - val_mean_squared_error: 0.1623 - 860ms/epoch - 14ms/step\n",
      "Epoch 52/100\n",
      "63/63 - 1s - loss: 0.0221 - mean_squared_error: 0.0221 - val_loss: 0.1558 - val_mean_squared_error: 0.1558 - 865ms/epoch - 14ms/step\n",
      "Epoch 53/100\n",
      "63/63 - 1s - loss: 0.0207 - mean_squared_error: 0.0207 - val_loss: 0.1657 - val_mean_squared_error: 0.1657 - 840ms/epoch - 13ms/step\n",
      "Epoch 54/100\n",
      "63/63 - 1s - loss: 0.0229 - mean_squared_error: 0.0229 - val_loss: 0.1724 - val_mean_squared_error: 0.1724 - 855ms/epoch - 14ms/step\n",
      "Epoch 55/100\n",
      "63/63 - 1s - loss: 0.0231 - mean_squared_error: 0.0231 - val_loss: 0.1611 - val_mean_squared_error: 0.1611 - 819ms/epoch - 13ms/step\n",
      "Epoch 56/100\n",
      "63/63 - 1s - loss: 0.0247 - mean_squared_error: 0.0247 - val_loss: 0.1983 - val_mean_squared_error: 0.1983 - 844ms/epoch - 13ms/step\n",
      "Epoch 57/100\n",
      "63/63 - 1s - loss: 0.0371 - mean_squared_error: 0.0371 - val_loss: 0.1775 - val_mean_squared_error: 0.1775 - 853ms/epoch - 14ms/step\n",
      "Epoch 58/100\n",
      "63/63 - 1s - loss: 0.0253 - mean_squared_error: 0.0253 - val_loss: 0.1657 - val_mean_squared_error: 0.1657 - 827ms/epoch - 13ms/step\n",
      "Epoch 59/100\n",
      "63/63 - 1s - loss: 0.0224 - mean_squared_error: 0.0224 - val_loss: 0.1697 - val_mean_squared_error: 0.1697 - 810ms/epoch - 13ms/step\n",
      "Epoch 60/100\n",
      "63/63 - 1s - loss: 0.0208 - mean_squared_error: 0.0208 - val_loss: 0.1561 - val_mean_squared_error: 0.1561 - 805ms/epoch - 13ms/step\n",
      "Epoch 61/100\n",
      "63/63 - 1s - loss: 0.0191 - mean_squared_error: 0.0191 - val_loss: 0.1583 - val_mean_squared_error: 0.1583 - 860ms/epoch - 14ms/step\n",
      "Epoch 62/100\n",
      "63/63 - 1s - loss: 0.0214 - mean_squared_error: 0.0214 - val_loss: 0.1803 - val_mean_squared_error: 0.1803 - 834ms/epoch - 13ms/step\n",
      "Epoch 63/100\n",
      "63/63 - 1s - loss: 0.0258 - mean_squared_error: 0.0258 - val_loss: 0.1735 - val_mean_squared_error: 0.1735 - 877ms/epoch - 14ms/step\n",
      "Epoch 64/100\n",
      "63/63 - 1s - loss: 0.0244 - mean_squared_error: 0.0244 - val_loss: 0.1586 - val_mean_squared_error: 0.1586 - 822ms/epoch - 13ms/step\n",
      "Epoch 65/100\n",
      "63/63 - 1s - loss: 0.0176 - mean_squared_error: 0.0176 - val_loss: 0.1499 - val_mean_squared_error: 0.1499 - 850ms/epoch - 13ms/step\n",
      "Epoch 66/100\n",
      "63/63 - 1s - loss: 0.0177 - mean_squared_error: 0.0177 - val_loss: 0.1539 - val_mean_squared_error: 0.1539 - 856ms/epoch - 14ms/step\n",
      "Epoch 67/100\n",
      "63/63 - 1s - loss: 0.0165 - mean_squared_error: 0.0165 - val_loss: 0.1676 - val_mean_squared_error: 0.1676 - 829ms/epoch - 13ms/step\n",
      "Epoch 68/100\n",
      "63/63 - 1s - loss: 0.0232 - mean_squared_error: 0.0232 - val_loss: 0.1714 - val_mean_squared_error: 0.1714 - 853ms/epoch - 14ms/step\n",
      "Epoch 69/100\n",
      "63/63 - 1s - loss: 0.0294 - mean_squared_error: 0.0294 - val_loss: 0.1768 - val_mean_squared_error: 0.1768 - 806ms/epoch - 13ms/step\n",
      "Epoch 70/100\n",
      "63/63 - 1s - loss: 0.0323 - mean_squared_error: 0.0323 - val_loss: 0.1736 - val_mean_squared_error: 0.1736 - 840ms/epoch - 13ms/step\n",
      "Epoch 71/100\n",
      "63/63 - 1s - loss: 0.0260 - mean_squared_error: 0.0260 - val_loss: 0.1522 - val_mean_squared_error: 0.1522 - 856ms/epoch - 14ms/step\n",
      "Epoch 72/100\n",
      "63/63 - 1s - loss: 0.0188 - mean_squared_error: 0.0188 - val_loss: 0.1563 - val_mean_squared_error: 0.1563 - 851ms/epoch - 14ms/step\n",
      "Epoch 73/100\n",
      "63/63 - 1s - loss: 0.0175 - mean_squared_error: 0.0175 - val_loss: 0.1512 - val_mean_squared_error: 0.1512 - 829ms/epoch - 13ms/step\n",
      "Epoch 74/100\n",
      "63/63 - 1s - loss: 0.0144 - mean_squared_error: 0.0144 - val_loss: 0.1439 - val_mean_squared_error: 0.1439 - 812ms/epoch - 13ms/step\n",
      "Epoch 75/100\n",
      "63/63 - 1s - loss: 0.0121 - mean_squared_error: 0.0121 - val_loss: 0.1540 - val_mean_squared_error: 0.1540 - 797ms/epoch - 13ms/step\n",
      "Epoch 76/100\n",
      "63/63 - 1s - loss: 0.0146 - mean_squared_error: 0.0146 - val_loss: 0.1457 - val_mean_squared_error: 0.1457 - 827ms/epoch - 13ms/step\n",
      "Epoch 77/100\n",
      "63/63 - 1s - loss: 0.0233 - mean_squared_error: 0.0233 - val_loss: 0.1693 - val_mean_squared_error: 0.1693 - 854ms/epoch - 14ms/step\n",
      "Epoch 78/100\n",
      "63/63 - 1s - loss: 0.0334 - mean_squared_error: 0.0334 - val_loss: 0.1701 - val_mean_squared_error: 0.1701 - 843ms/epoch - 13ms/step\n",
      "Epoch 79/100\n",
      "63/63 - 1s - loss: 0.0266 - mean_squared_error: 0.0266 - val_loss: 0.1436 - val_mean_squared_error: 0.1436 - 846ms/epoch - 13ms/step\n",
      "Epoch 80/100\n",
      "63/63 - 1s - loss: 0.0165 - mean_squared_error: 0.0165 - val_loss: 0.1767 - val_mean_squared_error: 0.1767 - 831ms/epoch - 13ms/step\n",
      "Epoch 81/100\n",
      "63/63 - 1s - loss: 0.0210 - mean_squared_error: 0.0210 - val_loss: 0.1476 - val_mean_squared_error: 0.1476 - 823ms/epoch - 13ms/step\n",
      "Epoch 82/100\n",
      "63/63 - 1s - loss: 0.0158 - mean_squared_error: 0.0158 - val_loss: 0.1390 - val_mean_squared_error: 0.1390 - 813ms/epoch - 13ms/step\n",
      "Epoch 83/100\n",
      "63/63 - 1s - loss: 0.0121 - mean_squared_error: 0.0121 - val_loss: 0.1436 - val_mean_squared_error: 0.1436 - 842ms/epoch - 13ms/step\n",
      "Epoch 84/100\n",
      "63/63 - 1s - loss: 0.0143 - mean_squared_error: 0.0143 - val_loss: 0.1407 - val_mean_squared_error: 0.1407 - 796ms/epoch - 13ms/step\n",
      "Epoch 85/100\n",
      "63/63 - 1s - loss: 0.0127 - mean_squared_error: 0.0127 - val_loss: 0.1409 - val_mean_squared_error: 0.1409 - 789ms/epoch - 13ms/step\n",
      "Epoch 86/100\n",
      "63/63 - 1s - loss: 0.0225 - mean_squared_error: 0.0225 - val_loss: 0.2205 - val_mean_squared_error: 0.2205 - 776ms/epoch - 12ms/step\n",
      "Epoch 87/100\n",
      "63/63 - 1s - loss: 0.0544 - mean_squared_error: 0.0544 - val_loss: 0.1617 - val_mean_squared_error: 0.1617 - 830ms/epoch - 13ms/step\n",
      "Epoch 88/100\n",
      "63/63 - 1s - loss: 0.0355 - mean_squared_error: 0.0355 - val_loss: 0.1589 - val_mean_squared_error: 0.1589 - 842ms/epoch - 13ms/step\n",
      "Epoch 89/100\n",
      "63/63 - 1s - loss: 0.0210 - mean_squared_error: 0.0210 - val_loss: 0.1360 - val_mean_squared_error: 0.1360 - 827ms/epoch - 13ms/step\n",
      "Epoch 90/100\n",
      "63/63 - 1s - loss: 0.0146 - mean_squared_error: 0.0146 - val_loss: 0.1333 - val_mean_squared_error: 0.1333 - 862ms/epoch - 14ms/step\n",
      "Epoch 91/100\n",
      "63/63 - 1s - loss: 0.0102 - mean_squared_error: 0.0102 - val_loss: 0.1266 - val_mean_squared_error: 0.1266 - 807ms/epoch - 13ms/step\n",
      "Epoch 92/100\n",
      "63/63 - 1s - loss: 0.0090 - mean_squared_error: 0.0090 - val_loss: 0.1268 - val_mean_squared_error: 0.1268 - 856ms/epoch - 14ms/step\n",
      "Epoch 93/100\n",
      "63/63 - 1s - loss: 0.0095 - mean_squared_error: 0.0095 - val_loss: 0.1378 - val_mean_squared_error: 0.1378 - 866ms/epoch - 14ms/step\n",
      "Epoch 94/100\n",
      "63/63 - 1s - loss: 0.0103 - mean_squared_error: 0.0103 - val_loss: 0.1311 - val_mean_squared_error: 0.1311 - 793ms/epoch - 13ms/step\n",
      "Epoch 95/100\n",
      "63/63 - 1s - loss: 0.0122 - mean_squared_error: 0.0122 - val_loss: 0.1379 - val_mean_squared_error: 0.1379 - 925ms/epoch - 15ms/step\n",
      "Epoch 96/100\n",
      "63/63 - 1s - loss: 0.0149 - mean_squared_error: 0.0149 - val_loss: 0.1416 - val_mean_squared_error: 0.1416 - 873ms/epoch - 14ms/step\n",
      "Epoch 97/100\n",
      "63/63 - 1s - loss: 0.0146 - mean_squared_error: 0.0146 - val_loss: 0.1513 - val_mean_squared_error: 0.1513 - 862ms/epoch - 14ms/step\n",
      "Epoch 98/100\n",
      "63/63 - 1s - loss: 0.0204 - mean_squared_error: 0.0204 - val_loss: 0.1553 - val_mean_squared_error: 0.1553 - 877ms/epoch - 14ms/step\n",
      "Epoch 99/100\n",
      "63/63 - 1s - loss: 0.0203 - mean_squared_error: 0.0203 - val_loss: 0.1345 - val_mean_squared_error: 0.1345 - 825ms/epoch - 13ms/step\n",
      "Epoch 100/100\n",
      "63/63 - 1s - loss: 0.0204 - mean_squared_error: 0.0204 - val_loss: 0.2051 - val_mean_squared_error: 0.2051 - 842ms/epoch - 13ms/step\n"
     ]
    }
   ],
   "source": [
    "history = model.fit(\n",
    "    generator.recipes, generator.quant, \n",
    "    batch_size=batch_size, \n",
    "    epochs=epochs, \n",
    "    validation_split = validation_split, \n",
    "    verbose=verbose\n",
    ")"
   ]
  },
  {
   "cell_type": "markdown",
   "id": "706eb789-c3cf-48c3-9dae-93e6d302bcba",
   "metadata": {},
   "source": [
    "## Testing"
   ]
  },
  {
   "cell_type": "code",
   "execution_count": 12,
   "id": "134acc20-4c84-4128-ac45-d82aef19ae87",
   "metadata": {},
   "outputs": [],
   "source": [
    "#prediction values\n",
    "test_gen = Generator('nutrients.csv')\n",
    "test_gen.generate(test_examples) # generates arg number of examples\n",
    "test_gen.scale(low,high) # scales ingredients individually between min and max arg values\n",
    "\n",
    "if rank:\n",
    "    test_gen.rank()\n",
    "    \n",
    "if normalize:\n",
    "    test_gen.normalize()"
   ]
  },
  {
   "cell_type": "code",
   "execution_count": 13,
   "id": "74f2048c-d607-44fb-8179-e8ce880175fe",
   "metadata": {},
   "outputs": [],
   "source": [
    "test_recipes = test_gen.recipes\n",
    "test_quant = test_gen.quant"
   ]
  },
  {
   "cell_type": "code",
   "execution_count": 14,
   "id": "55ea3325-e801-48d8-a724-3123acc1cc04",
   "metadata": {},
   "outputs": [
    {
     "name": "stdout",
     "output_type": "stream",
     "text": [
      "4/4 [==============================] - 0s 3ms/step - loss: 0.2327 - mean_squared_error: 0.2327\n"
     ]
    }
   ],
   "source": [
    "score = model.evaluate(test_recipes, test_quant, verbose=1)"
   ]
  },
  {
   "cell_type": "code",
   "execution_count": 15,
   "id": "200ce6aa-4acb-4abc-bdd5-0e3c80b56736",
   "metadata": {},
   "outputs": [],
   "source": [
    "pred = model.predict(test_recipes)\n",
    "if normalize:\n",
    "    pred = test_gen.inv_normalize(pred)"
   ]
  },
  {
   "cell_type": "code",
   "execution_count": 16,
   "id": "1e3caa32-d5a3-4822-a35b-712f59c647a5",
   "metadata": {},
   "outputs": [],
   "source": [
    "actual = test_gen.quant\n",
    "if normalize:\n",
    "    actual = test_gen.inv_normalize(actual)"
   ]
  },
  {
   "cell_type": "code",
   "execution_count": 23,
   "id": "4e7f467a-e9e7-47d5-8fd4-604985c912c5",
   "metadata": {},
   "outputs": [],
   "source": [
    "index = 4"
   ]
  },
  {
   "cell_type": "code",
   "execution_count": 27,
   "id": "16ceab61-cd6c-4092-9408-7075c17e9fd6",
   "metadata": {},
   "outputs": [
    {
     "name": "stdout",
     "output_type": "stream",
     "text": [
      "pred: -0.239 | actual: 0.0\n",
      "pred: 2.535 | actual: 3.597\n",
      "pred: 0.429 | actual: 1.333\n",
      "pred: 0.992 | actual: 1.362\n",
      "pred: 1.912 | actual: 2.185\n",
      "pred: 2.128 | actual: 2.244\n",
      "pred: 1.894 | actual: 1.911\n",
      "pred: -0.34 | actual: 0.0\n",
      "pred: 1.864 | actual: 1.597\n",
      "pred: 1.574 | actual: 1.735\n",
      "pred: 2.532 | actual: 2.421\n",
      "pred: 4.656 | actual: 4.292\n",
      "pred: 0.444 | actual: 0.755\n",
      "pred: -0.005 | actual: 0.0\n",
      "pred: -0.256 | actual: 0.0\n"
     ]
    }
   ],
   "source": [
    "for i in range(len(pred[0])):\n",
    "    pred_num = str(round(pred[index,i],3))\n",
    "    act_num = str(round(actual[index,i],3))\n",
    "    \n",
    "    print(f\"pred: {pred_num} | actual: {act_num}\" )"
   ]
  },
  {
   "cell_type": "code",
   "execution_count": 22,
   "id": "e0c17f74-7c00-4a84-adc6-df8b37da1fdf",
   "metadata": {},
   "outputs": [
    {
     "data": {
      "text/plain": [
       "2.431"
      ]
     },
     "execution_count": 22,
     "metadata": {},
     "output_type": "execute_result"
    }
   ],
   "source": [
    "round(pred[index,i],3)"
   ]
  },
  {
   "cell_type": "code",
   "execution_count": 25,
   "id": "f95a0324-bd57-4103-b0e7-18bf9b2f8244",
   "metadata": {},
   "outputs": [],
   "source": [
    "pred_num = round(pred[index,i],3)"
   ]
  },
  {
   "cell_type": "code",
   "execution_count": 26,
   "id": "451c6223-9d34-4ec4-9318-27402b9cbaa4",
   "metadata": {},
   "outputs": [
    {
     "data": {
      "text/plain": [
       "-0.256"
      ]
     },
     "execution_count": 26,
     "metadata": {},
     "output_type": "execute_result"
    }
   ],
   "source": [
    "pred_num"
   ]
  },
  {
   "cell_type": "code",
   "execution_count": null,
   "id": "8cbbceb4-cc64-4de4-9ebb-b71eed52faae",
   "metadata": {},
   "outputs": [],
   "source": []
  }
 ],
 "metadata": {
  "kernelspec": {
   "display_name": "Python 3 (ipykernel)",
   "language": "python",
   "name": "python3"
  },
  "language_info": {
   "codemirror_mode": {
    "name": "ipython",
    "version": 3
   },
   "file_extension": ".py",
   "mimetype": "text/x-python",
   "name": "python",
   "nbconvert_exporter": "python",
   "pygments_lexer": "ipython3",
   "version": "3.9.7"
  }
 },
 "nbformat": 4,
 "nbformat_minor": 5
}
