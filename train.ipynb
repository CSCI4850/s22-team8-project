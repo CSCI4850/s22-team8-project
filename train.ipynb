{
 "cells": [
  {
   "cell_type": "code",
   "execution_count": null,
   "id": "00004372-c1cc-47d2-a169-46f5d0f09b52",
   "metadata": {},
   "outputs": [],
   "source": [
    "import tensorflow as tf\n",
    "import tensorflow.keras as keras\n",
    "import numpy as np\n",
    "\n",
    "from Generator import Generator"
   ]
  },
  {
   "cell_type": "markdown",
   "id": "0ac47287-209f-4008-8454-e56dd05ae727",
   "metadata": {},
   "source": [
    "## Parameters"
   ]
  },
  {
   "cell_type": "markdown",
   "id": "20c0e4d0-4efc-4644-8660-187b6b2bbd89",
   "metadata": {},
   "source": [
    "#### Data Generation"
   ]
  },
  {
   "cell_type": "code",
   "execution_count": null,
   "id": "30121acf-492e-499d-9290-75f567ff39b6",
   "metadata": {},
   "outputs": [],
   "source": [
    "low = 0.1\n",
    "high = 1.0\n",
    "rank = True\n",
    "train_examples = 1000\n",
    "test_examples = 100"
   ]
  },
  {
   "cell_type": "markdown",
   "id": "f336abc6-2b96-4e0b-858f-f32a51d32933",
   "metadata": {},
   "source": [
    "#### Model"
   ]
  },
  {
   "cell_type": "code",
   "execution_count": null,
   "id": "105f9c8b-e112-4cdc-a24a-12535671b7ce",
   "metadata": {},
   "outputs": [],
   "source": [
    "embed_dim = 512\n",
    "stack = 8\n",
    "\n",
    "optimizer = keras.optimizers.Nadam()\n",
    "loss = keras.losses.MSE\n",
    "metrics = keras.metrics.MeanSquaredError()"
   ]
  },
  {
   "cell_type": "markdown",
   "id": "f5a5bf93-f5c9-4772-9ee8-d1675dca741f",
   "metadata": {},
   "source": [
    "#### Training"
   ]
  },
  {
   "cell_type": "code",
   "execution_count": null,
   "id": "74636d58-d1d8-412c-b393-d0c2d27c103f",
   "metadata": {},
   "outputs": [],
   "source": [
    "batch_size = 128\n",
    "epochs = 100\n",
    "validation_split = 0.2\n",
    "verbose = 2"
   ]
  },
  {
   "cell_type": "markdown",
   "id": "9452ebb1-97e9-4f34-a429-3ab296001e1b",
   "metadata": {},
   "source": [
    "## Generate Data"
   ]
  },
  {
   "cell_type": "code",
   "execution_count": null,
   "id": "23032494-9688-4711-9ebe-1d05222b3e58",
   "metadata": {},
   "outputs": [],
   "source": [
    "generator = Generator('nutrients.csv') # filename with data"
   ]
  },
  {
   "cell_type": "code",
   "execution_count": null,
   "id": "8c8e6f0e-363c-4c6a-a90b-857b0d00e820",
   "metadata": {},
   "outputs": [],
   "source": [
    "generator.generate(train_examples) # generates arg number of examples\n",
    "generator.scale(low,high) # scales ingredients individually between min and max arg values\n",
    "if rank == True:\n",
    "    generator.rank()\n",
    "\n",
    "recipes = generator.recipes # recipes\n",
    "quant = generator.quant # quantity of ingredients"
   ]
  },
  {
   "cell_type": "markdown",
   "id": "6a35f454-3e29-4a71-9cb7-298f97058578",
   "metadata": {},
   "source": [
    "## Build Model"
   ]
  },
  {
   "cell_type": "code",
   "execution_count": null,
   "id": "88feb92b-5433-4b83-a6f3-d8dbc1b1a5a9",
   "metadata": {},
   "outputs": [],
   "source": [
    "embed_dim = 512\n",
    "stack = 8\n",
    "i1 = keras.layers.Input(recipes.shape[1:])\n",
    "f1 = keras.layers.Flatten()(i1)\n",
    "y1 = keras.layers.Dense(embed_dim)(f1)\n",
    "\n",
    "# Stack residual blocks (skip connections)\n",
    "for _ in range(stack):\n",
    "    y2 = y1\n",
    "    y1 = keras.layers.Dense(embed_dim,\n",
    "        activation=keras.activations.relu)(y1)\n",
    "    y1 = keras.layers.Add()([y1,y2])\n",
    "    y1 = keras.layers.LayerNormalization()(y1)\n",
    "\n",
    "o1 = keras.layers.Dense(recipes.shape[1])(y1)\n",
    "    \n",
    "model = keras.Model(i1,o1)"
   ]
  },
  {
   "cell_type": "code",
   "execution_count": null,
   "id": "270046ea-1e0b-48ac-bd20-8f65d92f4284",
   "metadata": {},
   "outputs": [],
   "source": [
    "keras.utils.plot_model(model,to_file='recipe_model.png',show_shapes=True,expand_nested=True)"
   ]
  },
  {
   "cell_type": "code",
   "execution_count": null,
   "id": "756ff5a2-df36-48cb-b77b-1f9b58ec4351",
   "metadata": {},
   "outputs": [],
   "source": [
    "model.summary()"
   ]
  },
  {
   "cell_type": "code",
   "execution_count": null,
   "id": "720ec192-b5a7-411e-8c6c-743b5ae34542",
   "metadata": {},
   "outputs": [],
   "source": [
    "model.compile(optimizer=optimizer,\n",
    "            loss=loss,\n",
    "            metrics=metrics)"
   ]
  },
  {
   "cell_type": "markdown",
   "id": "7873746a-cf7f-424c-beb7-c3989f8e3c38",
   "metadata": {},
   "source": [
    "## Train"
   ]
  },
  {
   "cell_type": "code",
   "execution_count": null,
   "id": "baff6a30-b815-4812-8e8e-8c1e0b48e2e6",
   "metadata": {},
   "outputs": [],
   "source": [
    "history = model.fit(\n",
    "    recipes, quant, \n",
    "    batch_size=batch_size, \n",
    "    epochs=epochs, \n",
    "    validation_split = validation_split, \n",
    "    verbose=verbose\n",
    ")"
   ]
  },
  {
   "cell_type": "markdown",
   "id": "706eb789-c3cf-48c3-9dae-93e6d302bcba",
   "metadata": {},
   "source": [
    "## Testing"
   ]
  },
  {
   "cell_type": "code",
   "execution_count": null,
   "id": "134acc20-4c84-4128-ac45-d82aef19ae87",
   "metadata": {},
   "outputs": [],
   "source": [
    "#prediction values\n",
    "test_gen = Generator('nutrients.csv')\n",
    "test_gen.generate(test_examples) # generates arg number of examples\n",
    "test_gen.scale(low,high) # scales ingredients individually between min and max arg values\n",
    "\n",
    "if rank == True:\n",
    "    test_gen.rank()"
   ]
  },
  {
   "cell_type": "code",
   "execution_count": null,
   "id": "74f2048c-d607-44fb-8179-e8ce880175fe",
   "metadata": {},
   "outputs": [],
   "source": [
    "test_recipes = test_gen.recipes\n",
    "test_quant = test_gen.quant"
   ]
  },
  {
   "cell_type": "code",
   "execution_count": null,
   "id": "55ea3325-e801-48d8-a724-3123acc1cc04",
   "metadata": {},
   "outputs": [],
   "source": [
    "score = model.evaluate(test_recipes, test_quant, verbose=1)"
   ]
  },
  {
   "cell_type": "code",
   "execution_count": null,
   "id": "200ce6aa-4acb-4abc-bdd5-0e3c80b56736",
   "metadata": {},
   "outputs": [],
   "source": [
    "model.predict(test_recipes[0:1])"
   ]
  },
  {
   "cell_type": "code",
   "execution_count": null,
   "id": "99d8c0a6-8050-4111-bebd-afaa424e0d7c",
   "metadata": {},
   "outputs": [],
   "source": []
  }
 ],
 "metadata": {
  "kernelspec": {
   "display_name": "Python 3 (ipykernel)",
   "language": "python",
   "name": "python3"
  },
  "language_info": {
   "codemirror_mode": {
    "name": "ipython",
    "version": 3
   },
   "file_extension": ".py",
   "mimetype": "text/x-python",
   "name": "python",
   "nbconvert_exporter": "python",
   "pygments_lexer": "ipython3",
   "version": "3.9.7"
  }
 },
 "nbformat": 4,
 "nbformat_minor": 5
}
