{
 "cells": [
  {
   "cell_type": "code",
   "execution_count": null,
   "id": "00004372-c1cc-47d2-a169-46f5d0f09b52",
   "metadata": {},
   "outputs": [],
   "source": [
    "import tensorflow as tf\n",
    "import tensorflow.keras as keras\n",
    "import numpy as np\n",
    "import csv\n",
    "\n",
    "from Generator import Generator\n",
    "from Normalizer import Normalizer\n",
    "from RealData import RealData\n",
    "\n",
    "import matplotlib.pyplot as plt\n",
    "np.set_printoptions(suppress = True)"
   ]
  },
  {
   "cell_type": "code",
   "execution_count": null,
   "id": "9f1de659-6e81-40d6-8eb1-a650cfd5cb56",
   "metadata": {},
   "outputs": [],
   "source": [
    "run = 10"
   ]
  },
  {
   "cell_type": "code",
   "execution_count": null,
   "id": "8d6cb645-4bbb-47a9-bf10-35b13e560e94",
   "metadata": {},
   "outputs": [],
   "source": [
    "def save(model, recipe_normalizer, quant_normalizer, accs):\n",
    "    model.save(f\"./models/{run}_rank_{rank}/{run}_rank_{rank}.h5\")\n",
    "    \n",
    "    np.savetxt(f\"./models/{run}_rank_{rank}/norm_recipe_max\", recipe_normalizer.feature_max)\n",
    "    np.savetxt(f\"./models/{run}_rank_{rank}/norm_recipe_min\", recipe_normalizer.feature_min)\n",
    "    \n",
    "    np.savetxt(f\"./models/{run}_rank_{rank}/norm_quant_max\", quant_normalizer.feature_max)\n",
    "    np.savetxt(f\"./models/{run}_rank_{rank}/norm_quant_min\", quant_normalizer.feature_min)\n",
    "    \n",
    "    \n",
    "    # open file for writing, \"w\" is writing\n",
    "    w = csv.writer(open(f\"./models/{run}_rank_{rank}/accuracy.csv\", \"w\"))\n",
    "\n",
    "    # loop over dictionary keys and values\n",
    "    for key, val in accs.items():\n",
    "\n",
    "        # write every key and value to file\n",
    "        w.writerow([key, val])"
   ]
  },
  {
   "cell_type": "markdown",
   "id": "0ac47287-209f-4008-8454-e56dd05ae727",
   "metadata": {},
   "source": [
    "## Parameters"
   ]
  },
  {
   "cell_type": "markdown",
   "id": "20c0e4d0-4efc-4644-8660-187b6b2bbd89",
   "metadata": {},
   "source": [
    "#### Data Generation"
   ]
  },
  {
   "cell_type": "code",
   "execution_count": null,
   "id": "30121acf-492e-499d-9290-75f567ff39b6",
   "metadata": {},
   "outputs": [],
   "source": [
    "rank = True\n",
    "\n",
    "train_examples = 100000\n",
    "test_examples = 100"
   ]
  },
  {
   "cell_type": "markdown",
   "id": "f336abc6-2b96-4e0b-858f-f32a51d32933",
   "metadata": {},
   "source": [
    "#### Model"
   ]
  },
  {
   "cell_type": "code",
   "execution_count": null,
   "id": "105f9c8b-e112-4cdc-a24a-12535671b7ce",
   "metadata": {},
   "outputs": [],
   "source": [
    "embed_dim = 1024                          \n",
    "stack = 6                                    \n",
    "\n",
    "optimizer = keras.optimizers.Nadam()        \n",
    "loss = keras.losses.MSE\n",
    "\n",
    "\n",
    "metrics = keras.metrics.MeanSquaredError()"
   ]
  },
  {
   "cell_type": "markdown",
   "id": "f5a5bf93-f5c9-4772-9ee8-d1675dca741f",
   "metadata": {},
   "source": [
    "#### Training"
   ]
  },
  {
   "cell_type": "code",
   "execution_count": null,
   "id": "74636d58-d1d8-412c-b393-d0c2d27c103f",
   "metadata": {},
   "outputs": [],
   "source": [
    "batch_size = 128\n",
    "epochs = 1000\n",
    "\n",
    "validation_split = 0.2\n",
    "verbose = 2"
   ]
  },
  {
   "cell_type": "markdown",
   "id": "9452ebb1-97e9-4f34-a429-3ab296001e1b",
   "metadata": {},
   "source": [
    "## Generate Data"
   ]
  },
  {
   "cell_type": "code",
   "execution_count": null,
   "id": "23032494-9688-4711-9ebe-1d05222b3e58",
   "metadata": {},
   "outputs": [],
   "source": [
    "generator = Generator('./data/nutrients.csv') # filename with data\n",
    "generator.generate(train_examples) # generates arg number of examples"
   ]
  },
  {
   "cell_type": "code",
   "execution_count": null,
   "id": "8c8e6f0e-363c-4c6a-a90b-857b0d00e820",
   "metadata": {},
   "outputs": [],
   "source": [
    "if rank:\n",
    "    generator.rank()\n",
    "    \n",
    "recipes = generator.recipes\n",
    "quant = generator.quant\n",
    "    \n",
    "recipe_normalizer = Normalizer()\n",
    "recipe_normalizer.fit(recipes)\n",
    "recipes = recipe_normalizer.normalize(recipes)\n",
    "\n",
    "quant_normalizer = Normalizer()\n",
    "quant_normalizer.fit(quant)\n",
    "quant = quant_normalizer.normalize(quant)\n"
   ]
  },
  {
   "cell_type": "markdown",
   "id": "6a35f454-3e29-4a71-9cb7-298f97058578",
   "metadata": {},
   "source": [
    "## Build Model"
   ]
  },
  {
   "cell_type": "code",
   "execution_count": null,
   "id": "88feb92b-5433-4b83-a6f3-d8dbc1b1a5a9",
   "metadata": {},
   "outputs": [],
   "source": [
    "embed_dim = embed_dim\n",
    "stack = stack\n",
    "i1 = keras.layers.Input(generator.recipes.shape[1:])\n",
    "f1 = keras.layers.Flatten()(i1)\n",
    "y1 = keras.layers.Dense(embed_dim)(f1)\n",
    "\n",
    "# Stack residual blocks (skip connections)\n",
    "for i in range(stack):\n",
    "    y2 = y1\n",
    "    y1 = keras.layers.Dense(embed_dim,\n",
    "        activation=keras.activations.relu)(y1)\n",
    "    y1 = keras.layers.Add()([y1,y2])\n",
    "    y1 = keras.layers.LayerNormalization()(y1)\n",
    "    \n",
    "        \n",
    "o1 = keras.layers.Dense(quant.shape[1],activation=keras.activations.softplus)(y1)\n",
    "    \n",
    "model = keras.Model(i1,o1)"
   ]
  },
  {
   "cell_type": "code",
   "execution_count": null,
   "id": "270046ea-1e0b-48ac-bd20-8f65d92f4284",
   "metadata": {},
   "outputs": [],
   "source": [
    "keras.utils.plot_model(model,to_file='recipe_model.png',show_shapes=True,expand_nested=True)"
   ]
  },
  {
   "cell_type": "code",
   "execution_count": null,
   "id": "756ff5a2-df36-48cb-b77b-1f9b58ec4351",
   "metadata": {},
   "outputs": [],
   "source": [
    "model.summary()"
   ]
  },
  {
   "cell_type": "code",
   "execution_count": null,
   "id": "720ec192-b5a7-411e-8c6c-743b5ae34542",
   "metadata": {},
   "outputs": [],
   "source": [
    "model.compile(optimizer=optimizer,\n",
    "            loss=loss,\n",
    "            metrics=metrics)"
   ]
  },
  {
   "cell_type": "code",
   "execution_count": null,
   "id": "e5e032fb-d1c2-44e3-beb7-af9c61eafaeb",
   "metadata": {},
   "outputs": [],
   "source": [
    "filepath = f\"./models/{run}_rank_{rank}.h5\"\n",
    "checkpoint = keras.callbacks.ModelCheckpoint(filepath, monitor='loss', verbose=1, save_best_only=True, mode='min', save_freq=250)\n",
    "callbacks_list = [checkpoint]"
   ]
  },
  {
   "cell_type": "markdown",
   "id": "7873746a-cf7f-424c-beb7-c3989f8e3c38",
   "metadata": {},
   "source": [
    "## Train"
   ]
  },
  {
   "cell_type": "code",
   "execution_count": null,
   "id": "baff6a30-b815-4812-8e8e-8c1e0b48e2e6",
   "metadata": {},
   "outputs": [],
   "source": [
    "history = model.fit(\n",
    "    recipes, quant, \n",
    "    batch_size=batch_size, \n",
    "    epochs=epochs, \n",
    "    validation_split = validation_split, \n",
    "    verbose=verbose,\n",
    "    callbacks = callbacks_list\n",
    ")"
   ]
  },
  {
   "cell_type": "code",
   "execution_count": null,
   "id": "e8a7789f-4209-4755-b948-bfbf9d1db5b0",
   "metadata": {},
   "outputs": [],
   "source": [
    "plt.figure(1)\n",
    "# summarize history for accuracy\n",
    "plt.subplot(211)\n",
    "plt.plot(history.history['mean_squared_error'])\n",
    "plt.plot(history.history['val_mean_squared_error'])\n",
    "plt.plot(history.history['loss'])\n",
    "plt.ylabel('Progress')\n",
    "plt.xlabel('Epoch')\n",
    "plt.legend(['Training','Validation'],loc='lower right')"
   ]
  },
  {
   "cell_type": "markdown",
   "id": "6effc8be-cb0a-4dad-98c4-0b15110d33cd",
   "metadata": {},
   "source": [
    "## Accuracy Function Definition"
   ]
  },
  {
   "cell_type": "code",
   "execution_count": null,
   "id": "d36cad68-e49a-4090-a978-777356696905",
   "metadata": {},
   "outputs": [],
   "source": [
    "# accuracy formula:\n",
    "#   measured values < 1 are set to 1\n",
    "#   error = 100(( |Measured Value - Given Value| ) / max(Measured Value, Given Value))\n",
    "#   accuracy = 100 - error\n",
    "def accuracy(pred, actual):\n",
    "    \n",
    "    accs = {}\n",
    "    totals = []\n",
    "    \n",
    "    for i in range(pred.shape[0]): # for each recipe\n",
    "        recipe_accs = np.zeros((pred.shape[1])) # last element for accuracy across all ingrs\n",
    "        recipe_tot = {}\n",
    "        \n",
    "        for j in range(pred.shape[1]): # for each ingredient\n",
    "            measured_ingr = pred[i,j]\n",
    "            given_ingr = actual[i,j]\n",
    "            \n",
    "            if given_ingr < 1:\n",
    "                given_ingr = 1 # avoid divide by 0 error\n",
    "            if measured_ingr < 1:\n",
    "                measured_ingr = 1\n",
    "            \n",
    "            \n",
    "            error = 100 * abs(measured_ingr - given_ingr)/max(given_ingr,measured_ingr)\n",
    "            accuracy = round(abs(100 - error),2)\n",
    "            \n",
    "            \n",
    "            if (accuracy < 0):\n",
    "                accuracy = 0\n",
    "            \n",
    "            recipe_accs[j] = accuracy\n",
    "        \n",
    "        accs[f\"{i}_mape\"] = round((np.sum(recipe_accs) / recipe_accs.shape[0]),2)\n",
    "        accs[f\"{i}_ingrs\"] = recipe_accs\n",
    "        \n",
    "\n",
    "        \n",
    "    return accs"
   ]
  },
  {
   "cell_type": "markdown",
   "id": "706eb789-c3cf-48c3-9dae-93e6d302bcba",
   "metadata": {},
   "source": [
    "## Testing Fake Data"
   ]
  },
  {
   "cell_type": "code",
   "execution_count": null,
   "id": "134acc20-4c84-4128-ac45-d82aef19ae87",
   "metadata": {},
   "outputs": [],
   "source": [
    "test_gen = Generator('./data/nutrients.csv')\n",
    "test_gen.generate(test_examples) # generates arg number of examples\n",
    "\n",
    "if rank:\n",
    "    test_gen.rank()\n",
    "    \n",
    "test_recipes = test_gen.recipes\n",
    "test_quant = test_gen.quant\n",
    "    \n",
    "test_recipes = recipe_normalizer.normalize(test_recipes)\n",
    "test_quant = quant_normalizer.normalize(test_quant)"
   ]
  },
  {
   "cell_type": "code",
   "execution_count": null,
   "id": "200ce6aa-4acb-4abc-bdd5-0e3c80b56736",
   "metadata": {},
   "outputs": [],
   "source": [
    "pred = model.predict(test_recipes)\n",
    "pred = quant_normalizer.inv_normalize(pred)"
   ]
  },
  {
   "cell_type": "code",
   "execution_count": null,
   "id": "1e3caa32-d5a3-4822-a35b-712f59c647a5",
   "metadata": {},
   "outputs": [],
   "source": [
    "actual = test_gen.quant"
   ]
  },
  {
   "cell_type": "code",
   "execution_count": null,
   "id": "2a14f674-2b16-40b1-9bae-6478cf9f90af",
   "metadata": {},
   "outputs": [],
   "source": [
    "index = 5\n",
    "for i in range(len(pred[0])):\n",
    "    pred_num = str(round(pred[index,i],3))\n",
    "    act_num = str(round(actual[index,i],3))\n",
    "    \n",
    "    print(f\"pred: {pred_num} | actual: {act_num}\" )"
   ]
  },
  {
   "cell_type": "markdown",
   "id": "e217d273-dda1-4af0-acc2-1f5a0cf87e09",
   "metadata": {},
   "source": [
    "## Testing Real Data"
   ]
  },
  {
   "cell_type": "code",
   "execution_count": null,
   "id": "8954e7b9-da87-448e-9ae6-d7ef5c0a3f66",
   "metadata": {},
   "outputs": [],
   "source": [
    "recipe_quant = \"./data/Recipe Data.csv\"\n",
    "ingr_nutr = \"./data/nutrients.csv\""
   ]
  },
  {
   "cell_type": "code",
   "execution_count": null,
   "id": "b13fd588-802e-46cf-8435-e40b137d7994",
   "metadata": {},
   "outputs": [],
   "source": [
    "realdata = RealData(recipe_quant,ingr_nutr)"
   ]
  },
  {
   "cell_type": "code",
   "execution_count": null,
   "id": "4db691a7-0cc2-4b97-9909-41402cc33ec0",
   "metadata": {},
   "outputs": [],
   "source": [
    "if rank:\n",
    "    realdata.rank()\n",
    "\n",
    "real_recipes = realdata.recipes\n",
    "real_quant = realdata.quant\n",
    "    \n",
    "real_recipes = recipe_normalizer.normalize(real_recipes)"
   ]
  },
  {
   "cell_type": "code",
   "execution_count": null,
   "id": "9c342352-1581-4769-8105-7f55dfdb08b4",
   "metadata": {},
   "outputs": [],
   "source": [
    "pred = model.predict(real_recipes)\n",
    "pred = quant_normalizer.inv_normalize(pred)"
   ]
  },
  {
   "cell_type": "code",
   "execution_count": null,
   "id": "99980b4a-b68f-4a9f-b9ae-e22d67d0b1f2",
   "metadata": {},
   "outputs": [],
   "source": [
    "actual = realdata.quant"
   ]
  },
  {
   "cell_type": "code",
   "execution_count": null,
   "id": "859583a5-6d5d-423f-9eff-cb4afe25ee90",
   "metadata": {},
   "outputs": [],
   "source": [
    "index = 10\n",
    "for i in range(len(pred[0])):\n",
    "    pred_num = str(round(pred[index,i],3))\n",
    "    act_num = str(round(actual[index,i],3))\n",
    "    \n",
    "    print(f\"pred: {pred_num} | actual: {act_num}\" )"
   ]
  },
  {
   "cell_type": "code",
   "execution_count": null,
   "id": "dd75fc47-e7c2-4464-a293-83941f499c16",
   "metadata": {},
   "outputs": [],
   "source": [
    "accs = accuracy(pred,actual)"
   ]
  },
  {
   "cell_type": "code",
   "execution_count": null,
   "id": "662c482c-6760-4e84-a8d1-ec0df8b183a2",
   "metadata": {},
   "outputs": [],
   "source": [
    "save(model,recipe_normalizer,quant_normalizer, accs)"
   ]
  },
  {
   "cell_type": "code",
   "execution_count": null,
   "id": "6636e9bf-e081-4bd1-b8c9-884e2583bb28",
   "metadata": {},
   "outputs": [],
   "source": []
  }
 ],
 "metadata": {
  "kernelspec": {
   "display_name": "Python 3 (ipykernel)",
   "language": "python",
   "name": "python3"
  },
  "language_info": {
   "codemirror_mode": {
    "name": "ipython",
    "version": 3
   },
   "file_extension": ".py",
   "mimetype": "text/x-python",
   "name": "python",
   "nbconvert_exporter": "python",
   "pygments_lexer": "ipython3",
   "version": "3.9.7"
  }
 },
 "nbformat": 4,
 "nbformat_minor": 5
}
